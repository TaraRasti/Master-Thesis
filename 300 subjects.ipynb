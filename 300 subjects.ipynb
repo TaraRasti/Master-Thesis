{
 "cells": [
  {
   "cell_type": "code",
   "execution_count": 111,
   "id": "abandoned-metropolitan",
   "metadata": {},
   "outputs": [],
   "source": [
    "import numpy as np\n",
    "import pandas as pd\n",
    "import os\n",
    "from PIL import Image\n",
    "from matplotlib import image\n",
    "import matplotlib.pyplot as plt"
   ]
  },
  {
   "cell_type": "code",
   "execution_count": 2,
   "id": "demanding-exchange",
   "metadata": {},
   "outputs": [],
   "source": [
    "label = pd.read_csv(\"/Users/taraapple/Downloads/center/label.csv\")"
   ]
  },
  {
   "cell_type": "code",
   "execution_count": 7,
   "id": "settled-nothing",
   "metadata": {},
   "outputs": [],
   "source": [
    "normal=label[150:]"
   ]
  },
  {
   "cell_type": "code",
   "execution_count": 27,
   "id": "infectious-bookmark",
   "metadata": {},
   "outputs": [],
   "source": [
    "import random\n",
    "r = random.sample(range(0, 453), 150)"
   ]
  },
  {
   "cell_type": "code",
   "execution_count": 28,
   "id": "everyday-december",
   "metadata": {},
   "outputs": [
    {
     "data": {
      "text/plain": [
       "list"
      ]
     },
     "execution_count": 28,
     "metadata": {},
     "output_type": "execute_result"
    }
   ],
   "source": [
    "type(r)"
   ]
  },
  {
   "cell_type": "code",
   "execution_count": 29,
   "id": "brutal-marketplace",
   "metadata": {},
   "outputs": [],
   "source": [
    "r = np.array(r)"
   ]
  },
  {
   "cell_type": "code",
   "execution_count": 31,
   "id": "monthly-battery",
   "metadata": {},
   "outputs": [],
   "source": [
    "new_normal = normal.iloc[r]"
   ]
  },
  {
   "cell_type": "code",
   "execution_count": 35,
   "id": "eligible-empire",
   "metadata": {},
   "outputs": [],
   "source": [
    "X = new_normal.append(label[:150])"
   ]
  },
  {
   "cell_type": "code",
   "execution_count": 37,
   "id": "institutional-render",
   "metadata": {},
   "outputs": [],
   "source": [
    "X.to_csv(\"/Users/taraapple/Downloads/center/newLabel.csv\",index=False)"
   ]
  },
  {
   "cell_type": "code",
   "execution_count": 38,
   "id": "blank-deputy",
   "metadata": {},
   "outputs": [
    {
     "data": {
      "text/html": [
       "<div>\n",
       "<style scoped>\n",
       "    .dataframe tbody tr th:only-of-type {\n",
       "        vertical-align: middle;\n",
       "    }\n",
       "\n",
       "    .dataframe tbody tr th {\n",
       "        vertical-align: top;\n",
       "    }\n",
       "\n",
       "    .dataframe thead th {\n",
       "        text-align: right;\n",
       "    }\n",
       "</style>\n",
       "<table border=\"1\" class=\"dataframe\">\n",
       "  <thead>\n",
       "    <tr style=\"text-align: right;\">\n",
       "      <th></th>\n",
       "      <th>Subject</th>\n",
       "      <th>Label</th>\n",
       "    </tr>\n",
       "  </thead>\n",
       "  <tbody>\n",
       "    <tr>\n",
       "      <th>0</th>\n",
       "      <td>sub-OAS31047</td>\n",
       "      <td>0</td>\n",
       "    </tr>\n",
       "    <tr>\n",
       "      <th>1</th>\n",
       "      <td>sub-OAS30977</td>\n",
       "      <td>0</td>\n",
       "    </tr>\n",
       "    <tr>\n",
       "      <th>2</th>\n",
       "      <td>sub-OAS30652</td>\n",
       "      <td>0</td>\n",
       "    </tr>\n",
       "    <tr>\n",
       "      <th>3</th>\n",
       "      <td>sub-OAS30772</td>\n",
       "      <td>0</td>\n",
       "    </tr>\n",
       "    <tr>\n",
       "      <th>4</th>\n",
       "      <td>sub-OAS30392</td>\n",
       "      <td>0</td>\n",
       "    </tr>\n",
       "    <tr>\n",
       "      <th>...</th>\n",
       "      <td>...</td>\n",
       "      <td>...</td>\n",
       "    </tr>\n",
       "    <tr>\n",
       "      <th>295</th>\n",
       "      <td>sub-OAS30345</td>\n",
       "      <td>1</td>\n",
       "    </tr>\n",
       "    <tr>\n",
       "      <th>296</th>\n",
       "      <td>sub-OAS30812</td>\n",
       "      <td>1</td>\n",
       "    </tr>\n",
       "    <tr>\n",
       "      <th>297</th>\n",
       "      <td>sub-OAS30190</td>\n",
       "      <td>1</td>\n",
       "    </tr>\n",
       "    <tr>\n",
       "      <th>298</th>\n",
       "      <td>sub-OAS30147</td>\n",
       "      <td>1</td>\n",
       "    </tr>\n",
       "    <tr>\n",
       "      <th>299</th>\n",
       "      <td>sub-OAS30153</td>\n",
       "      <td>1</td>\n",
       "    </tr>\n",
       "  </tbody>\n",
       "</table>\n",
       "<p>300 rows × 2 columns</p>\n",
       "</div>"
      ],
      "text/plain": [
       "          Subject  Label\n",
       "0    sub-OAS31047      0\n",
       "1    sub-OAS30977      0\n",
       "2    sub-OAS30652      0\n",
       "3    sub-OAS30772      0\n",
       "4    sub-OAS30392      0\n",
       "..            ...    ...\n",
       "295  sub-OAS30345      1\n",
       "296  sub-OAS30812      1\n",
       "297  sub-OAS30190      1\n",
       "298  sub-OAS30147      1\n",
       "299  sub-OAS30153      1\n",
       "\n",
       "[300 rows x 2 columns]"
      ]
     },
     "execution_count": 38,
     "metadata": {},
     "output_type": "execute_result"
    }
   ],
   "source": [
    "label = pd.read_csv(\"/Users/taraapple/Downloads/center/newLabel.csv\")\n",
    "label"
   ]
  },
  {
   "cell_type": "code",
   "execution_count": 74,
   "id": "romance-union",
   "metadata": {},
   "outputs": [],
   "source": [
    "normal=label[:150]"
   ]
  },
  {
   "cell_type": "code",
   "execution_count": 75,
   "id": "commercial-savage",
   "metadata": {},
   "outputs": [],
   "source": [
    "demented=label[150:]"
   ]
  },
  {
   "cell_type": "code",
   "execution_count": 76,
   "id": "bored-relation",
   "metadata": {},
   "outputs": [],
   "source": [
    "indices = list(range(len(normal)))\n",
    "random.shuffle(indices)\n",
    "split_point = int(0.8*len(indices))"
   ]
  },
  {
   "cell_type": "code",
   "execution_count": 77,
   "id": "wanted-anatomy",
   "metadata": {},
   "outputs": [],
   "source": [
    "train_indices = indices[:split_point]\n",
    "test_indices = indices[split_point:]"
   ]
  },
  {
   "cell_type": "code",
   "execution_count": 78,
   "id": "constitutional-fossil",
   "metadata": {},
   "outputs": [],
   "source": [
    "normal_train=normal.iloc[train_indices]\n",
    "normal_test=normal.iloc[test_indices]"
   ]
  },
  {
   "cell_type": "code",
   "execution_count": 65,
   "id": "united-testing",
   "metadata": {},
   "outputs": [],
   "source": [
    "normal_train.to_csv('/Users/taraapple/Downloads/normal_train.csv', index = False)"
   ]
  },
  {
   "cell_type": "code",
   "execution_count": 66,
   "id": "mounted-consequence",
   "metadata": {},
   "outputs": [],
   "source": [
    "normal_test.to_csv('/Users/taraapple/Downloads/normal_test.csv', index = False)"
   ]
  },
  {
   "cell_type": "code",
   "execution_count": 79,
   "id": "associate-reproduction",
   "metadata": {},
   "outputs": [],
   "source": [
    "indices = list(range(len(demented)))\n",
    "random.shuffle(indices)\n",
    "split_point = int(0.8*len(indices))"
   ]
  },
  {
   "cell_type": "code",
   "execution_count": 80,
   "id": "settled-leader",
   "metadata": {},
   "outputs": [],
   "source": [
    "train_indices = indices[:split_point]\n",
    "test_indices = indices[split_point:]"
   ]
  },
  {
   "cell_type": "code",
   "execution_count": 81,
   "id": "aging-compilation",
   "metadata": {},
   "outputs": [],
   "source": [
    "demented_train=demented.iloc[train_indices]\n",
    "demented_test=demented.iloc[test_indices]"
   ]
  },
  {
   "cell_type": "code",
   "execution_count": 71,
   "id": "square-olympus",
   "metadata": {},
   "outputs": [],
   "source": [
    "demented_train.to_csv('/Users/taraapple/Downloads/demented_train.csv', index = False)"
   ]
  },
  {
   "cell_type": "code",
   "execution_count": 72,
   "id": "terminal-joseph",
   "metadata": {},
   "outputs": [],
   "source": [
    "demented_test.to_csv('/Users/taraapple/Downloads/demented_test.csv', index = False)"
   ]
  },
  {
   "cell_type": "code",
   "execution_count": 73,
   "id": "handmade-vaccine",
   "metadata": {},
   "outputs": [
    {
     "name": "stdout",
     "output_type": "stream",
     "text": [
      "demented(test/train): 30 120 normal(test/train): 30 120\n"
     ]
    }
   ],
   "source": [
    "print(\"demented(test/train):\", len(demented_test), len(demented_train), \"normal(test/train):\", len(normal_test), len(normal_train))"
   ]
  },
  {
   "cell_type": "code",
   "execution_count": 82,
   "id": "choice-picnic",
   "metadata": {},
   "outputs": [],
   "source": [
    "test = demented_test.append(normal_test)"
   ]
  },
  {
   "cell_type": "code",
   "execution_count": 83,
   "id": "surprised-affiliation",
   "metadata": {},
   "outputs": [],
   "source": [
    "test.to_csv('/Users/taraapple/Downloads/test.csv', index = False)"
   ]
  },
  {
   "cell_type": "code",
   "execution_count": 84,
   "id": "empirical-independence",
   "metadata": {},
   "outputs": [],
   "source": [
    "train = demented_train.append(normal_train)"
   ]
  },
  {
   "cell_type": "code",
   "execution_count": 85,
   "id": "confirmed-bangkok",
   "metadata": {},
   "outputs": [],
   "source": [
    "train.to_csv('/Users/taraapple/Downloads/train.csv', index = False)"
   ]
  },
  {
   "cell_type": "code",
   "execution_count": 86,
   "id": "spanish-command",
   "metadata": {},
   "outputs": [],
   "source": [
    "test = pd.read_csv('/Users/taraapple/Downloads/test.csv')"
   ]
  },
  {
   "cell_type": "code",
   "execution_count": 87,
   "id": "recreational-newman",
   "metadata": {},
   "outputs": [],
   "source": [
    "train = pd.read_csv('/Users/taraapple/Downloads/train.csv')"
   ]
  },
  {
   "cell_type": "code",
   "execution_count": 94,
   "id": "respective-framing",
   "metadata": {},
   "outputs": [],
   "source": [
    "for i in range(30):\n",
    "    os.makedirs(\"/Users/taraapple/Downloads/120-170-5/test/demented/\" + demented_test.iloc[i,0])"
   ]
  },
  {
   "cell_type": "code",
   "execution_count": 95,
   "id": "horizontal-dancing",
   "metadata": {},
   "outputs": [],
   "source": [
    "for i in range(30):\n",
    "    os.makedirs(\"/Users/taraapple/Downloads/120-170-5/test/normal/\" + normal_test.iloc[i,0])"
   ]
  },
  {
   "cell_type": "code",
   "execution_count": 96,
   "id": "touched-thriller",
   "metadata": {},
   "outputs": [],
   "source": [
    "for i in range(120):\n",
    "    os.makedirs(\"/Users/taraapple/Downloads/120-170-5/train/demented/\" + demented_train.iloc[i,0])"
   ]
  },
  {
   "cell_type": "code",
   "execution_count": 97,
   "id": "logical-warning",
   "metadata": {},
   "outputs": [],
   "source": [
    "for i in range(120):\n",
    "    os.makedirs(\"/Users/taraapple/Downloads/120-170-5/train/normal/\" + normal_train.iloc[i,0])"
   ]
  },
  {
   "cell_type": "code",
   "execution_count": 100,
   "id": "devoted-turner",
   "metadata": {},
   "outputs": [],
   "source": [
    "P = \"/Users/taraapple/Downloads/center/ALZ/Demented/\""
   ]
  },
  {
   "cell_type": "code",
   "execution_count": 101,
   "id": "coated-cincinnati",
   "metadata": {},
   "outputs": [],
   "source": [
    "L1 = []\n",
    "for i in range(len(os.listdir(P))):\n",
    "    L1.append(os.listdir(P)[i])"
   ]
  },
  {
   "cell_type": "code",
   "execution_count": 102,
   "id": "extreme-analysis",
   "metadata": {},
   "outputs": [
    {
     "data": {
      "text/plain": [
       "7650"
      ]
     },
     "execution_count": 102,
     "metadata": {},
     "output_type": "execute_result"
    }
   ],
   "source": [
    "len(L1)"
   ]
  },
  {
   "cell_type": "code",
   "execution_count": 103,
   "id": "elementary-cutting",
   "metadata": {},
   "outputs": [],
   "source": [
    "Path = []\n",
    "for i in range(len(os.listdir(P))):\n",
    "    L1.append(P + L1[i])\n",
    "    \n",
    "path1 = []\n",
    "for i in range(7650):\n",
    "    path1.append(P +  L1[i])"
   ]
  },
  {
   "cell_type": "code",
   "execution_count": 104,
   "id": "raised-exploration",
   "metadata": {},
   "outputs": [],
   "source": [
    "M = os.listdir(\"/Users/taraapple/Downloads/120-170-5/test/demented/\")"
   ]
  },
  {
   "cell_type": "code",
   "execution_count": 105,
   "id": "cardiac-poultry",
   "metadata": {},
   "outputs": [
    {
     "data": {
      "text/plain": [
       "31"
      ]
     },
     "execution_count": 105,
     "metadata": {},
     "output_type": "execute_result"
    }
   ],
   "source": [
    "len(M)"
   ]
  },
  {
   "cell_type": "code",
   "execution_count": 107,
   "id": "cooperative-induction",
   "metadata": {},
   "outputs": [
    {
     "data": {
      "text/plain": [
       "'.DS_Store'"
      ]
     },
     "execution_count": 107,
     "metadata": {},
     "output_type": "execute_result"
    }
   ],
   "source": [
    "M[5]"
   ]
  },
  {
   "cell_type": "code",
   "execution_count": 108,
   "id": "coordinated-palestine",
   "metadata": {},
   "outputs": [],
   "source": [
    "M = np.delete(M, 5, axis=None)"
   ]
  },
  {
   "cell_type": "code",
   "execution_count": 112,
   "id": "usual-blast",
   "metadata": {},
   "outputs": [],
   "source": [
    "for i in range(30):\n",
    "    for j in range(7650):\n",
    "        if np.int(L1[j][:3])%5==0:\n",
    "            if M[i] == L1[j][3:15]:\n",
    "                filepath = path1[j]\n",
    "                img = image.imread(filepath)\n",
    "                file_path =  \"/Users/taraapple/Downloads/120-170-5/test/demented/\" + M[i] + \"/\" + L1[j]\n",
    "                plt.imsave(file_path, img, format='jpg', cmap = 'gray')    "
   ]
  },
  {
   "cell_type": "code",
   "execution_count": 113,
   "id": "applicable-perth",
   "metadata": {},
   "outputs": [],
   "source": [
    "M = os.listdir(\"/Users/taraapple/Downloads/120-170-5/train/demented/\")"
   ]
  },
  {
   "cell_type": "code",
   "execution_count": 114,
   "id": "unusual-thailand",
   "metadata": {},
   "outputs": [
    {
     "data": {
      "text/plain": [
       "121"
      ]
     },
     "execution_count": 114,
     "metadata": {},
     "output_type": "execute_result"
    }
   ],
   "source": [
    "len(M)"
   ]
  },
  {
   "cell_type": "code",
   "execution_count": 118,
   "id": "democratic-penguin",
   "metadata": {},
   "outputs": [
    {
     "data": {
      "text/plain": [
       "'.DS_Store'"
      ]
     },
     "execution_count": 118,
     "metadata": {},
     "output_type": "execute_result"
    }
   ],
   "source": [
    "M[17]"
   ]
  },
  {
   "cell_type": "code",
   "execution_count": 119,
   "id": "recent-stereo",
   "metadata": {},
   "outputs": [],
   "source": [
    "M = np.delete(M, 17, axis=None)"
   ]
  },
  {
   "cell_type": "code",
   "execution_count": 120,
   "id": "accessory-parker",
   "metadata": {},
   "outputs": [],
   "source": [
    "for i in range(120):\n",
    "    for j in range(7650):\n",
    "        if np.int(L1[j][:3])%5==0:\n",
    "            if M[i] == L1[j][3:15]:\n",
    "                filepath = path1[j]\n",
    "                img = image.imread(filepath)\n",
    "                file_path =  \"/Users/taraapple/Downloads/120-170-5/train/demented/\" + M[i] + \"/\" + L1[j]\n",
    "                plt.imsave(file_path, img, format='jpg', cmap = 'gray')    "
   ]
  },
  {
   "cell_type": "code",
   "execution_count": 121,
   "id": "actual-lindsay",
   "metadata": {},
   "outputs": [],
   "source": [
    "P = \"/Users/taraapple/Downloads/center/ALZ/Normal/\"\n",
    "L1 = []\n",
    "for i in range(len(os.listdir(P))):\n",
    "    L1.append(os.listdir(P)[i])"
   ]
  },
  {
   "cell_type": "code",
   "execution_count": 122,
   "id": "speaking-portsmouth",
   "metadata": {},
   "outputs": [
    {
     "data": {
      "text/plain": [
       "23154"
      ]
     },
     "execution_count": 122,
     "metadata": {},
     "output_type": "execute_result"
    }
   ],
   "source": [
    "len(L1)"
   ]
  },
  {
   "cell_type": "code",
   "execution_count": 123,
   "id": "advanced-casino",
   "metadata": {},
   "outputs": [],
   "source": [
    "Path = []\n",
    "for i in range(len(os.listdir(P))):\n",
    "    L1.append(P + L1[i])\n",
    "    \n",
    "path1 = []\n",
    "for i in range(23154):\n",
    "    path1.append(P +  L1[i])"
   ]
  },
  {
   "cell_type": "code",
   "execution_count": 124,
   "id": "straight-senate",
   "metadata": {},
   "outputs": [],
   "source": [
    "M = os.listdir(\"/Users/taraapple/Downloads/120-170-5/train/normal/\")"
   ]
  },
  {
   "cell_type": "code",
   "execution_count": 125,
   "id": "skilled-speaking",
   "metadata": {},
   "outputs": [
    {
     "data": {
      "text/plain": [
       "120"
      ]
     },
     "execution_count": 125,
     "metadata": {},
     "output_type": "execute_result"
    }
   ],
   "source": [
    "len(M)"
   ]
  },
  {
   "cell_type": "code",
   "execution_count": 126,
   "id": "supposed-nowhere",
   "metadata": {},
   "outputs": [],
   "source": [
    "for i in range(120):\n",
    "    for j in range(23154):\n",
    "        if np.int(L1[j][:3])%5==0:\n",
    "            if M[i] == L1[j][3:15]:\n",
    "                filepath = path1[j]\n",
    "                img = image.imread(filepath)\n",
    "                file_path =  \"/Users/taraapple/Downloads/120-170-5/train/normal/\" + M[i] + \"/\" + L1[j]\n",
    "                plt.imsave(file_path, img, format='jpg', cmap = 'gray')    "
   ]
  },
  {
   "cell_type": "code",
   "execution_count": 127,
   "id": "patient-rocket",
   "metadata": {},
   "outputs": [],
   "source": [
    "M = os.listdir(\"/Users/taraapple/Downloads/120-170-5/test/normal/\")"
   ]
  },
  {
   "cell_type": "code",
   "execution_count": 128,
   "id": "amazing-tribute",
   "metadata": {},
   "outputs": [
    {
     "data": {
      "text/plain": [
       "31"
      ]
     },
     "execution_count": 128,
     "metadata": {},
     "output_type": "execute_result"
    }
   ],
   "source": [
    "len(M)"
   ]
  },
  {
   "cell_type": "code",
   "execution_count": 131,
   "id": "standing-recording",
   "metadata": {},
   "outputs": [],
   "source": [
    "M = np.delete(M, 4, axis=None)"
   ]
  },
  {
   "cell_type": "code",
   "execution_count": 133,
   "id": "arabic-contrast",
   "metadata": {},
   "outputs": [],
   "source": [
    "for i in range(30):\n",
    "    for j in range(23154):\n",
    "        if np.int(L1[j][:3])%5==0:\n",
    "            if M[i] == L1[j][3:15]:\n",
    "                filepath = path1[j]\n",
    "                img = image.imread(filepath)\n",
    "                file_path =  \"/Users/taraapple/Downloads/120-170-5/test/normal/\" + M[i] + \"/\" + L1[j]\n",
    "                plt.imsave(file_path, img, format='jpg', cmap = 'gray')    "
   ]
  },
  {
   "cell_type": "code",
   "execution_count": null,
   "id": "ethical-georgia",
   "metadata": {},
   "outputs": [],
   "source": []
  }
 ],
 "metadata": {
  "kernelspec": {
   "display_name": "Python 3",
   "language": "python",
   "name": "python3"
  },
  "language_info": {
   "codemirror_mode": {
    "name": "ipython",
    "version": 3
   },
   "file_extension": ".py",
   "mimetype": "text/x-python",
   "name": "python",
   "nbconvert_exporter": "python",
   "pygments_lexer": "ipython3",
   "version": "3.7.6"
  }
 },
 "nbformat": 4,
 "nbformat_minor": 5
}
