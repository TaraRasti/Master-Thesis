{
 "cells": [
  {
   "cell_type": "code",
   "execution_count": 84,
   "id": "magnetic-astronomy",
   "metadata": {},
   "outputs": [],
   "source": [
    "from PIL import Image\n",
    "from matplotlib import image\n",
    "from matplotlib import pyplot\n",
    "import os\n",
    "import numpy as np\n",
    "import matplotlib.pyplot as plt\n",
    "import matplotlib as mlp\n",
    "import imageio"
   ]
  },
  {
   "cell_type": "markdown",
   "id": "nearby-chrome",
   "metadata": {},
   "source": [
    "# Demented"
   ]
  },
  {
   "cell_type": "code",
   "execution_count": 90,
   "id": "every-acoustic",
   "metadata": {},
   "outputs": [],
   "source": [
    "L = []\n",
    "for i in range(len(os.listdir('/Users/taraapple/Downloads/ALZHEIMER/demented/'))):\n",
    "    L.append(os.listdir('/Users/taraapple/Downloads/ALZHEIMER/demented/')[i])"
   ]
  },
  {
   "cell_type": "code",
   "execution_count": 92,
   "id": "right-watch",
   "metadata": {},
   "outputs": [
    {
     "data": {
      "text/plain": [
       "'.DS_Store'"
      ]
     },
     "execution_count": 92,
     "metadata": {},
     "output_type": "execute_result"
    }
   ],
   "source": [
    "L[22]"
   ]
  },
  {
   "cell_type": "code",
   "execution_count": 93,
   "id": "worldwide-crack",
   "metadata": {},
   "outputs": [
    {
     "data": {
      "text/plain": [
       "array(['sub-OAS30811', 'sub-OAS30827', 'sub-OAS30686', 'sub-OAS30672',\n",
       "       'sub-OAS30440', 'sub-OAS30874', 'sub-OAS30873', 'sub-OAS30610',\n",
       "       'sub-OAS30617', 'sub-OAS30287', 'sub-OAS30217', 'sub-OAS30477',\n",
       "       'sub-OAS30226', 'sub-OAS30286', 'sub-OAS30424', 'sub-OAS30616',\n",
       "       'sub-OAS30078', 'sub-OAS30243', 'sub-OAS30085', 'sub-OAS30244',\n",
       "       'sub-OAS30076', 'sub-OAS30752', 'sub-OAS30556', 'sub-OAS30354',\n",
       "       'sub-OAS30391', 'sub-OAS30533', 'sub-OAS30150', 'sub-OAS30796',\n",
       "       'sub-OAS30753', 'sub-OAS30397', 'sub-OAS30156', 'sub-OAS30504',\n",
       "       'sub-OAS30399', 'sub-OAS30355', 'sub-OAS30158', 'sub-OAS30521',\n",
       "       'sub-OAS30145', 'sub-OAS30370', 'sub-OAS30714', 'sub-OAS30510',\n",
       "       'sub-OAS30315', 'sub-OAS30544', 'sub-OAS30116', 'sub-OAS30740',\n",
       "       'sub-OAS30575', 'sub-OAS30111', 'sub-OAS30172', 'sub-OAS30518',\n",
       "       'sub-OAS30110', 'sub-OAS30325', 'sub-OAS30573', 'sub-OAS30128',\n",
       "       'sub-OAS30545', 'sub-OAS30313', 'sub-OAS30119', 'sub-OAS30868',\n",
       "       'sub-OAS30850', 'sub-OAS30098', 'sub-OAS30866', 'sub-OAS30401',\n",
       "       'sub-OAS30859', 'sub-OAS30091', 'sub-OAS30804', 'sub-OAS30063',\n",
       "       'sub-OAS30851', 'sub-OAS30436', 'sub-OAS30267', 'sub-OAS30802',\n",
       "       'sub-OAS30805', 'sub-OAS30202', 'sub-OAS30661', 'sub-OAS30453',\n",
       "       'sub-OAS30834', 'sub-OAS30087', 'sub-OAS30410', 'sub-OAS30622',\n",
       "       'sub-OAS30613', 'sub-OAS30678', 'sub-OAS30812', 'sub-OAS30029',\n",
       "       'sub-OAS30815', 'sub-OAS30016', 'sub-OAS30649', 'sub-OAS30682',\n",
       "       'sub-OAS30282', 'sub-OAS30847', 'sub-OAS30271', 'sub-OAS30849',\n",
       "       'sub-OAS30416', 'sub-OAS30214', 'sub-OAS30648', 'sub-OAS30445',\n",
       "       'sub-OAS30641', 'sub-OAS30646', 'sub-OAS30474', 'sub-OAS30705',\n",
       "       'sub-OAS30153', 'sub-OAS30198', 'sub-OAS30702', 'sub-OAS30332',\n",
       "       'sub-OAS30100', 'sub-OAS30599', 'sub-OAS30136', 'sub-OAS30358',\n",
       "       'sub-OAS30394', 'sub-OAS30199', 'sub-OAS30190', 'sub-OAS30732',\n",
       "       'sub-OAS30761', 'sub-OAS30795', 'sub-OAS30130', 'sub-OAS30554',\n",
       "       'sub-OAS30334', 'sub-OAS30591', 'sub-OAS30311', 'sub-OAS30578',\n",
       "       'sub-OAS30124', 'sub-OAS30316', 'sub-OAS30582', 'sub-OAS30576',\n",
       "       'sub-OAS30549', 'sub-OAS30373', 'sub-OAS30522', 'sub-OAS30342',\n",
       "       'sub-OAS30170', 'sub-OAS30345', 'sub-OAS30583', 'sub-OAS30548',\n",
       "       'sub-OAS30541', 'sub-OAS30773', 'sub-OAS30388', 'sub-OAS30147',\n",
       "       'sub-OAS30238', 'sub-OAS30836', 'sub-OAS30655', 'sub-OAS30467',\n",
       "       'sub-OAS30460', 'sub-OAS30209', 'sub-OAS30853', 'sub-OAS30262',\n",
       "       'sub-OAS30265', 'sub-OAS30298', 'sub-OAS30095', 'sub-OAS30865',\n",
       "       'sub-OAS30630', 'sub-OAS30495', 'sub-OAS30653', 'sub-OAS30457',\n",
       "       'sub-OAS30255', 'sub-OAS30056'], dtype='<U12')"
      ]
     },
     "execution_count": 93,
     "metadata": {},
     "output_type": "execute_result"
    }
   ],
   "source": [
    "L = np.delete(L, 22, axis=None)\n",
    "L"
   ]
  },
  {
   "cell_type": "code",
   "execution_count": 94,
   "id": "comprehensive-puzzle",
   "metadata": {},
   "outputs": [
    {
     "data": {
      "text/plain": [
       "150"
      ]
     },
     "execution_count": 94,
     "metadata": {},
     "output_type": "execute_result"
    }
   ],
   "source": [
    "len(L)"
   ]
  },
  {
   "cell_type": "code",
   "execution_count": 95,
   "id": "regular-value",
   "metadata": {},
   "outputs": [],
   "source": [
    "path = []\n",
    "for i in range(150):\n",
    "    path.append('/Users/taraapple/Downloads/ALZHEIMER/demented/' +  L[i])"
   ]
  },
  {
   "cell_type": "code",
   "execution_count": 96,
   "id": "hungry-cruise",
   "metadata": {},
   "outputs": [
    {
     "data": {
      "text/plain": [
       "['/Users/taraapple/Downloads/ALZHEIMER/demented/sub-OAS30811',\n",
       " '/Users/taraapple/Downloads/ALZHEIMER/demented/sub-OAS30827',\n",
       " '/Users/taraapple/Downloads/ALZHEIMER/demented/sub-OAS30686',\n",
       " '/Users/taraapple/Downloads/ALZHEIMER/demented/sub-OAS30672',\n",
       " '/Users/taraapple/Downloads/ALZHEIMER/demented/sub-OAS30440',\n",
       " '/Users/taraapple/Downloads/ALZHEIMER/demented/sub-OAS30874',\n",
       " '/Users/taraapple/Downloads/ALZHEIMER/demented/sub-OAS30873',\n",
       " '/Users/taraapple/Downloads/ALZHEIMER/demented/sub-OAS30610',\n",
       " '/Users/taraapple/Downloads/ALZHEIMER/demented/sub-OAS30617',\n",
       " '/Users/taraapple/Downloads/ALZHEIMER/demented/sub-OAS30287',\n",
       " '/Users/taraapple/Downloads/ALZHEIMER/demented/sub-OAS30217',\n",
       " '/Users/taraapple/Downloads/ALZHEIMER/demented/sub-OAS30477',\n",
       " '/Users/taraapple/Downloads/ALZHEIMER/demented/sub-OAS30226',\n",
       " '/Users/taraapple/Downloads/ALZHEIMER/demented/sub-OAS30286',\n",
       " '/Users/taraapple/Downloads/ALZHEIMER/demented/sub-OAS30424',\n",
       " '/Users/taraapple/Downloads/ALZHEIMER/demented/sub-OAS30616',\n",
       " '/Users/taraapple/Downloads/ALZHEIMER/demented/sub-OAS30078',\n",
       " '/Users/taraapple/Downloads/ALZHEIMER/demented/sub-OAS30243',\n",
       " '/Users/taraapple/Downloads/ALZHEIMER/demented/sub-OAS30085',\n",
       " '/Users/taraapple/Downloads/ALZHEIMER/demented/sub-OAS30244',\n",
       " '/Users/taraapple/Downloads/ALZHEIMER/demented/sub-OAS30076',\n",
       " '/Users/taraapple/Downloads/ALZHEIMER/demented/sub-OAS30752',\n",
       " '/Users/taraapple/Downloads/ALZHEIMER/demented/sub-OAS30556',\n",
       " '/Users/taraapple/Downloads/ALZHEIMER/demented/sub-OAS30354',\n",
       " '/Users/taraapple/Downloads/ALZHEIMER/demented/sub-OAS30391',\n",
       " '/Users/taraapple/Downloads/ALZHEIMER/demented/sub-OAS30533',\n",
       " '/Users/taraapple/Downloads/ALZHEIMER/demented/sub-OAS30150',\n",
       " '/Users/taraapple/Downloads/ALZHEIMER/demented/sub-OAS30796',\n",
       " '/Users/taraapple/Downloads/ALZHEIMER/demented/sub-OAS30753',\n",
       " '/Users/taraapple/Downloads/ALZHEIMER/demented/sub-OAS30397',\n",
       " '/Users/taraapple/Downloads/ALZHEIMER/demented/sub-OAS30156',\n",
       " '/Users/taraapple/Downloads/ALZHEIMER/demented/sub-OAS30504',\n",
       " '/Users/taraapple/Downloads/ALZHEIMER/demented/sub-OAS30399',\n",
       " '/Users/taraapple/Downloads/ALZHEIMER/demented/sub-OAS30355',\n",
       " '/Users/taraapple/Downloads/ALZHEIMER/demented/sub-OAS30158',\n",
       " '/Users/taraapple/Downloads/ALZHEIMER/demented/sub-OAS30521',\n",
       " '/Users/taraapple/Downloads/ALZHEIMER/demented/sub-OAS30145',\n",
       " '/Users/taraapple/Downloads/ALZHEIMER/demented/sub-OAS30370',\n",
       " '/Users/taraapple/Downloads/ALZHEIMER/demented/sub-OAS30714',\n",
       " '/Users/taraapple/Downloads/ALZHEIMER/demented/sub-OAS30510',\n",
       " '/Users/taraapple/Downloads/ALZHEIMER/demented/sub-OAS30315',\n",
       " '/Users/taraapple/Downloads/ALZHEIMER/demented/sub-OAS30544',\n",
       " '/Users/taraapple/Downloads/ALZHEIMER/demented/sub-OAS30116',\n",
       " '/Users/taraapple/Downloads/ALZHEIMER/demented/sub-OAS30740',\n",
       " '/Users/taraapple/Downloads/ALZHEIMER/demented/sub-OAS30575',\n",
       " '/Users/taraapple/Downloads/ALZHEIMER/demented/sub-OAS30111',\n",
       " '/Users/taraapple/Downloads/ALZHEIMER/demented/sub-OAS30172',\n",
       " '/Users/taraapple/Downloads/ALZHEIMER/demented/sub-OAS30518',\n",
       " '/Users/taraapple/Downloads/ALZHEIMER/demented/sub-OAS30110',\n",
       " '/Users/taraapple/Downloads/ALZHEIMER/demented/sub-OAS30325',\n",
       " '/Users/taraapple/Downloads/ALZHEIMER/demented/sub-OAS30573',\n",
       " '/Users/taraapple/Downloads/ALZHEIMER/demented/sub-OAS30128',\n",
       " '/Users/taraapple/Downloads/ALZHEIMER/demented/sub-OAS30545',\n",
       " '/Users/taraapple/Downloads/ALZHEIMER/demented/sub-OAS30313',\n",
       " '/Users/taraapple/Downloads/ALZHEIMER/demented/sub-OAS30119',\n",
       " '/Users/taraapple/Downloads/ALZHEIMER/demented/sub-OAS30868',\n",
       " '/Users/taraapple/Downloads/ALZHEIMER/demented/sub-OAS30850',\n",
       " '/Users/taraapple/Downloads/ALZHEIMER/demented/sub-OAS30098',\n",
       " '/Users/taraapple/Downloads/ALZHEIMER/demented/sub-OAS30866',\n",
       " '/Users/taraapple/Downloads/ALZHEIMER/demented/sub-OAS30401',\n",
       " '/Users/taraapple/Downloads/ALZHEIMER/demented/sub-OAS30859',\n",
       " '/Users/taraapple/Downloads/ALZHEIMER/demented/sub-OAS30091',\n",
       " '/Users/taraapple/Downloads/ALZHEIMER/demented/sub-OAS30804',\n",
       " '/Users/taraapple/Downloads/ALZHEIMER/demented/sub-OAS30063',\n",
       " '/Users/taraapple/Downloads/ALZHEIMER/demented/sub-OAS30851',\n",
       " '/Users/taraapple/Downloads/ALZHEIMER/demented/sub-OAS30436',\n",
       " '/Users/taraapple/Downloads/ALZHEIMER/demented/sub-OAS30267',\n",
       " '/Users/taraapple/Downloads/ALZHEIMER/demented/sub-OAS30802',\n",
       " '/Users/taraapple/Downloads/ALZHEIMER/demented/sub-OAS30805',\n",
       " '/Users/taraapple/Downloads/ALZHEIMER/demented/sub-OAS30202',\n",
       " '/Users/taraapple/Downloads/ALZHEIMER/demented/sub-OAS30661',\n",
       " '/Users/taraapple/Downloads/ALZHEIMER/demented/sub-OAS30453',\n",
       " '/Users/taraapple/Downloads/ALZHEIMER/demented/sub-OAS30834',\n",
       " '/Users/taraapple/Downloads/ALZHEIMER/demented/sub-OAS30087',\n",
       " '/Users/taraapple/Downloads/ALZHEIMER/demented/sub-OAS30410',\n",
       " '/Users/taraapple/Downloads/ALZHEIMER/demented/sub-OAS30622',\n",
       " '/Users/taraapple/Downloads/ALZHEIMER/demented/sub-OAS30613',\n",
       " '/Users/taraapple/Downloads/ALZHEIMER/demented/sub-OAS30678',\n",
       " '/Users/taraapple/Downloads/ALZHEIMER/demented/sub-OAS30812',\n",
       " '/Users/taraapple/Downloads/ALZHEIMER/demented/sub-OAS30029',\n",
       " '/Users/taraapple/Downloads/ALZHEIMER/demented/sub-OAS30815',\n",
       " '/Users/taraapple/Downloads/ALZHEIMER/demented/sub-OAS30016',\n",
       " '/Users/taraapple/Downloads/ALZHEIMER/demented/sub-OAS30649',\n",
       " '/Users/taraapple/Downloads/ALZHEIMER/demented/sub-OAS30682',\n",
       " '/Users/taraapple/Downloads/ALZHEIMER/demented/sub-OAS30282',\n",
       " '/Users/taraapple/Downloads/ALZHEIMER/demented/sub-OAS30847',\n",
       " '/Users/taraapple/Downloads/ALZHEIMER/demented/sub-OAS30271',\n",
       " '/Users/taraapple/Downloads/ALZHEIMER/demented/sub-OAS30849',\n",
       " '/Users/taraapple/Downloads/ALZHEIMER/demented/sub-OAS30416',\n",
       " '/Users/taraapple/Downloads/ALZHEIMER/demented/sub-OAS30214',\n",
       " '/Users/taraapple/Downloads/ALZHEIMER/demented/sub-OAS30648',\n",
       " '/Users/taraapple/Downloads/ALZHEIMER/demented/sub-OAS30445',\n",
       " '/Users/taraapple/Downloads/ALZHEIMER/demented/sub-OAS30641',\n",
       " '/Users/taraapple/Downloads/ALZHEIMER/demented/sub-OAS30646',\n",
       " '/Users/taraapple/Downloads/ALZHEIMER/demented/sub-OAS30474',\n",
       " '/Users/taraapple/Downloads/ALZHEIMER/demented/sub-OAS30705',\n",
       " '/Users/taraapple/Downloads/ALZHEIMER/demented/sub-OAS30153',\n",
       " '/Users/taraapple/Downloads/ALZHEIMER/demented/sub-OAS30198',\n",
       " '/Users/taraapple/Downloads/ALZHEIMER/demented/sub-OAS30702',\n",
       " '/Users/taraapple/Downloads/ALZHEIMER/demented/sub-OAS30332',\n",
       " '/Users/taraapple/Downloads/ALZHEIMER/demented/sub-OAS30100',\n",
       " '/Users/taraapple/Downloads/ALZHEIMER/demented/sub-OAS30599',\n",
       " '/Users/taraapple/Downloads/ALZHEIMER/demented/sub-OAS30136',\n",
       " '/Users/taraapple/Downloads/ALZHEIMER/demented/sub-OAS30358',\n",
       " '/Users/taraapple/Downloads/ALZHEIMER/demented/sub-OAS30394',\n",
       " '/Users/taraapple/Downloads/ALZHEIMER/demented/sub-OAS30199',\n",
       " '/Users/taraapple/Downloads/ALZHEIMER/demented/sub-OAS30190',\n",
       " '/Users/taraapple/Downloads/ALZHEIMER/demented/sub-OAS30732',\n",
       " '/Users/taraapple/Downloads/ALZHEIMER/demented/sub-OAS30761',\n",
       " '/Users/taraapple/Downloads/ALZHEIMER/demented/sub-OAS30795',\n",
       " '/Users/taraapple/Downloads/ALZHEIMER/demented/sub-OAS30130',\n",
       " '/Users/taraapple/Downloads/ALZHEIMER/demented/sub-OAS30554',\n",
       " '/Users/taraapple/Downloads/ALZHEIMER/demented/sub-OAS30334',\n",
       " '/Users/taraapple/Downloads/ALZHEIMER/demented/sub-OAS30591',\n",
       " '/Users/taraapple/Downloads/ALZHEIMER/demented/sub-OAS30311',\n",
       " '/Users/taraapple/Downloads/ALZHEIMER/demented/sub-OAS30578',\n",
       " '/Users/taraapple/Downloads/ALZHEIMER/demented/sub-OAS30124',\n",
       " '/Users/taraapple/Downloads/ALZHEIMER/demented/sub-OAS30316',\n",
       " '/Users/taraapple/Downloads/ALZHEIMER/demented/sub-OAS30582',\n",
       " '/Users/taraapple/Downloads/ALZHEIMER/demented/sub-OAS30576',\n",
       " '/Users/taraapple/Downloads/ALZHEIMER/demented/sub-OAS30549',\n",
       " '/Users/taraapple/Downloads/ALZHEIMER/demented/sub-OAS30373',\n",
       " '/Users/taraapple/Downloads/ALZHEIMER/demented/sub-OAS30522',\n",
       " '/Users/taraapple/Downloads/ALZHEIMER/demented/sub-OAS30342',\n",
       " '/Users/taraapple/Downloads/ALZHEIMER/demented/sub-OAS30170',\n",
       " '/Users/taraapple/Downloads/ALZHEIMER/demented/sub-OAS30345',\n",
       " '/Users/taraapple/Downloads/ALZHEIMER/demented/sub-OAS30583',\n",
       " '/Users/taraapple/Downloads/ALZHEIMER/demented/sub-OAS30548',\n",
       " '/Users/taraapple/Downloads/ALZHEIMER/demented/sub-OAS30541',\n",
       " '/Users/taraapple/Downloads/ALZHEIMER/demented/sub-OAS30773',\n",
       " '/Users/taraapple/Downloads/ALZHEIMER/demented/sub-OAS30388',\n",
       " '/Users/taraapple/Downloads/ALZHEIMER/demented/sub-OAS30147',\n",
       " '/Users/taraapple/Downloads/ALZHEIMER/demented/sub-OAS30238',\n",
       " '/Users/taraapple/Downloads/ALZHEIMER/demented/sub-OAS30836',\n",
       " '/Users/taraapple/Downloads/ALZHEIMER/demented/sub-OAS30655',\n",
       " '/Users/taraapple/Downloads/ALZHEIMER/demented/sub-OAS30467',\n",
       " '/Users/taraapple/Downloads/ALZHEIMER/demented/sub-OAS30460',\n",
       " '/Users/taraapple/Downloads/ALZHEIMER/demented/sub-OAS30209',\n",
       " '/Users/taraapple/Downloads/ALZHEIMER/demented/sub-OAS30853',\n",
       " '/Users/taraapple/Downloads/ALZHEIMER/demented/sub-OAS30262',\n",
       " '/Users/taraapple/Downloads/ALZHEIMER/demented/sub-OAS30265',\n",
       " '/Users/taraapple/Downloads/ALZHEIMER/demented/sub-OAS30298',\n",
       " '/Users/taraapple/Downloads/ALZHEIMER/demented/sub-OAS30095',\n",
       " '/Users/taraapple/Downloads/ALZHEIMER/demented/sub-OAS30865',\n",
       " '/Users/taraapple/Downloads/ALZHEIMER/demented/sub-OAS30630',\n",
       " '/Users/taraapple/Downloads/ALZHEIMER/demented/sub-OAS30495',\n",
       " '/Users/taraapple/Downloads/ALZHEIMER/demented/sub-OAS30653',\n",
       " '/Users/taraapple/Downloads/ALZHEIMER/demented/sub-OAS30457',\n",
       " '/Users/taraapple/Downloads/ALZHEIMER/demented/sub-OAS30255',\n",
       " '/Users/taraapple/Downloads/ALZHEIMER/demented/sub-OAS30056']"
      ]
     },
     "execution_count": 96,
     "metadata": {},
     "output_type": "execute_result"
    }
   ],
   "source": [
    "path"
   ]
  },
  {
   "cell_type": "code",
   "execution_count": 97,
   "id": "approved-ordinary",
   "metadata": {},
   "outputs": [
    {
     "data": {
      "text/plain": [
       "150"
      ]
     },
     "execution_count": 97,
     "metadata": {},
     "output_type": "execute_result"
    }
   ],
   "source": [
    "len(path)"
   ]
  },
  {
   "cell_type": "code",
   "execution_count": 98,
   "id": "powered-receiver",
   "metadata": {},
   "outputs": [],
   "source": [
    "for i in range(len(path)):\n",
    "    from matplotlib import image\n",
    "    filepath = path[i] + '/150' + path[i][46:60] + '.png'\n",
    "    image  = image.imread(filepath)\n",
    "    if len(image.shape) > 2 and image.shape[2] == 4:\n",
    "        img = cv2.cvtColor(image, cv2.COLOR_BGRA2BGR)\n",
    "    file_path =  '/Users/taraapple/Downloads/A/demented/150' + path[i][46:60]\n",
    "    plt.imsave(file_path, img, format='jpg', cmap = 'gray')"
   ]
  },
  {
   "cell_type": "code",
   "execution_count": 99,
   "id": "vocal-discussion",
   "metadata": {},
   "outputs": [
    {
     "name": "stdout",
     "output_type": "stream",
     "text": [
      "uint8\n",
      "(148, 196, 3)\n"
     ]
    },
    {
     "data": {
      "image/png": "[encoded data removed]",
      "text/plain": [
       "<Figure size 432x288 with 1 Axes>"
      ]
     },
     "metadata": {
      "needs_background": "light"
     },
     "output_type": "display_data"
    }
   ],
   "source": [
    "from PIL import Image\n",
    "from matplotlib import image\n",
    "from matplotlib import pyplot\n",
    "import os\n",
    "import numpy as np\n",
    "import matplotlib.pyplot as plt\n",
    "import matplotlib as mlp\n",
    "image = image.imread('/Users/taraapple/Downloads/A/demented/150sub-OAS30853')\n",
    "print(image.dtype)\n",
    "print(image.shape)\n",
    "pyplot.imshow(image)\n",
    "pyplot.show()"
   ]
  },
  {
   "cell_type": "markdown",
   "id": "united-zambia",
   "metadata": {},
   "source": [
    "# MCI"
   ]
  },
  {
   "cell_type": "code",
   "execution_count": 100,
   "id": "valued-beaver",
   "metadata": {},
   "outputs": [],
   "source": [
    "L = []\n",
    "for i in range(len(os.listdir('/Users/taraapple/Downloads/ALZHEIMER/mci/'))):\n",
    "    L.append(os.listdir('/Users/taraapple/Downloads/ALZHEIMER/mci/')[i])"
   ]
  },
  {
   "cell_type": "code",
   "execution_count": 102,
   "id": "important-turner",
   "metadata": {},
   "outputs": [
    {
     "data": {
      "text/plain": [
       "'.DS_Store'"
      ]
     },
     "execution_count": 102,
     "metadata": {},
     "output_type": "execute_result"
    }
   ],
   "source": [
    "L[4]"
   ]
  },
  {
   "cell_type": "code",
   "execution_count": 103,
   "id": "dress-stocks",
   "metadata": {},
   "outputs": [
    {
     "data": {
      "text/plain": [
       "array(['sub-OAS31134', 'sub-OAS31156', 'sub-OAS31135', 'sub-OAS30886',\n",
       "       'sub-OAS30954', 'sub-OAS31082', 'sub-OAS30953', 'sub-OAS30930',\n",
       "       'sub-OAS30901', 'sub-OAS31024', 'sub-OAS30999', 'sub-OAS30952',\n",
       "       'sub-OAS30955', 'sub-OAS30990', 'sub-OAS31063', 'sub-OAS30983',\n",
       "       'sub-OAS30948', 'sub-OAS31055', 'sub-OAS31030', 'sub-OAS30915',\n",
       "       'sub-OAS31008', 'sub-OAS30971', 'sub-OAS31054', 'sub-OAS31098',\n",
       "       'sub-OAS30976', 'sub-OAS30947', 'sub-OAS30914', 'sub-OAS30925',\n",
       "       'sub-OAS30892', 'sub-OAS31144', 'sub-OAS30893', 'sub-OAS31129',\n",
       "       'sub-OAS31152', 'sub-OAS31163', 'sub-OAS30215', 'sub-OAS31162',\n",
       "       'sub-OAS30882', 'sub-OAS30885', 'sub-OAS31044', 'sub-OAS31086',\n",
       "       'sub-OAS30957', 'sub-OAS31074', 'sub-OAS30994', 'sub-OAS31016',\n",
       "       'sub-OAS30902', 'sub-OAS30918', 'sub-OAS30911', 'sub-OAS31033',\n",
       "       'sub-OAS31067', 'sub-OAS31060', 'sub-OAS30987', 'sub-OAS31051',\n",
       "       'sub-OAS30928', 'sub-OAS31003', 'sub-OAS30926', 'sub-OAS31004',\n",
       "       'sub-OAS30975', 'sub-OAS31050', 'sub-OAS31140', 'sub-OAS31123',\n",
       "       'sub-OAS31112'], dtype='<U12')"
      ]
     },
     "execution_count": 103,
     "metadata": {},
     "output_type": "execute_result"
    }
   ],
   "source": [
    "L = np.delete(L, 4, axis=None)\n",
    "L"
   ]
  },
  {
   "cell_type": "code",
   "execution_count": 104,
   "id": "worthy-yukon",
   "metadata": {},
   "outputs": [
    {
     "data": {
      "text/plain": [
       "61"
      ]
     },
     "execution_count": 104,
     "metadata": {},
     "output_type": "execute_result"
    }
   ],
   "source": [
    "len(L)"
   ]
  },
  {
   "cell_type": "code",
   "execution_count": 105,
   "id": "published-canberra",
   "metadata": {},
   "outputs": [],
   "source": [
    "path = []\n",
    "for i in range(61):\n",
    "    path.append('/Users/taraapple/Downloads/ALZHEIMER/mci/' +  L[i])"
   ]
  },
  {
   "cell_type": "code",
   "execution_count": 106,
   "id": "normal-montana",
   "metadata": {},
   "outputs": [
    {
     "data": {
      "text/plain": [
       "61"
      ]
     },
     "execution_count": 106,
     "metadata": {},
     "output_type": "execute_result"
    }
   ],
   "source": [
    "len(path)"
   ]
  },
  {
   "cell_type": "code",
   "execution_count": 118,
   "id": "upper-secret",
   "metadata": {},
   "outputs": [],
   "source": [
    "for i in range(len(path)):\n",
    "    from matplotlib import image\n",
    "    filepath = path[i] + '/150' + path[i][41:53] + '.png'\n",
    "    image  = image.imread(filepath)\n",
    "    if len(image.shape) > 2 and image.shape[2] == 4:\n",
    "        img = cv2.cvtColor(image, cv2.COLOR_BGRA2BGR)\n",
    "    file_path =  '/Users/taraapple/Downloads/A/mci/150' + path[i][41:53]\n",
    "    plt.imsave(file_path, img, format='jpg', cmap = 'gray')"
   ]
  },
  {
   "cell_type": "markdown",
   "id": "vocal-teach",
   "metadata": {},
   "source": [
    "# Normal"
   ]
  },
  {
   "cell_type": "code",
   "execution_count": 120,
   "id": "wanted-region",
   "metadata": {},
   "outputs": [],
   "source": [
    "L = []\n",
    "for i in range(len(os.listdir('/Users/taraapple/Downloads/ALZHEIMER/normal/'))):\n",
    "    L.append(os.listdir('/Users/taraapple/Downloads/ALZHEIMER/normal/')[i])"
   ]
  },
  {
   "cell_type": "code",
   "execution_count": 124,
   "id": "traditional-environment",
   "metadata": {},
   "outputs": [
    {
     "data": {
      "text/plain": [
       "'.DS_Store'"
      ]
     },
     "execution_count": 124,
     "metadata": {},
     "output_type": "execute_result"
    }
   ],
   "source": [
    "L[87]"
   ]
  },
  {
   "cell_type": "code",
   "execution_count": 125,
   "id": "corrected-clinton",
   "metadata": {},
   "outputs": [
    {
     "data": {
      "text/plain": [
       "array(['sub-OAS30816', 'sub-OAS30688', 'sub-OAS30643', 'sub-OAS30227',\n",
       "       'sub-OAS30015', 'sub-OAS30829', 'sub-OAS31133', 'sub-OAS30449',\n",
       "       'sub-OAS30220', 'sub-OAS30476', 'sub-OAS30229', 'sub-OAS30818',\n",
       "       'sub-OAS30216', 'sub-OAS30820', 'sub-OAS30211', 'sub-OAS30681',\n",
       "       'sub-OAS31105', 'sub-OAS30077', 'sub-OAS30245', 'sub-OAS30621',\n",
       "       'sub-OAS30083', 'sub-OAS30048', 'sub-OAS30880', 'sub-OAS30414',\n",
       "       'sub-OAS30626', 'sub-OAS30242', 'sub-OAS30887', 'sub-OAS30289',\n",
       "       'sub-OAS30280', 'sub-OAS31160', 'sub-OAS30274', 'sub-OAS30046',\n",
       "       'sub-OAS30845', 'sub-OAS30079', 'sub-OAS31167', 'sub-OAS30842',\n",
       "       'sub-OAS30628', 'sub-OAS31158', 'sub-OAS30821', 'sub-OAS30680',\n",
       "       'sub-OAS30674', 'sub-OAS30441', 'sub-OAS30673', 'sub-OAS30819',\n",
       "       'sub-OAS30025', 'sub-OAS31103', 'sub-OAS30221', 'sub-OAS30483',\n",
       "       'sub-OAS30219', 'sub-OAS30817', 'sub-OAS30484', 'sub-OAS30642',\n",
       "       'sub-OAS30014', 'sub-OAS30888', 'sub-OAS30272', 'sub-OAS31159',\n",
       "       'sub-OAS30275', 'sub-OAS30423', 'sub-OAS31161', 'sub-OAS30844',\n",
       "       'sub-OAS30071', 'sub-OAS31157', 'sub-OAS30872', 'sub-OAS30288',\n",
       "       'sub-OAS31168', 'sub-OAS30082', 'sub-OAS30620', 'sub-OAS30881',\n",
       "       'sub-OAS30049', 'sub-OAS30875', 'sub-OAS30907', 'sub-OAS30309',\n",
       "       'sub-OAS30336', 'sub-OAS30938', 'sub-OAS30558', 'sub-OAS30900',\n",
       "       'sub-OAS31025', 'sub-OAS30103', 'sub-OAS30755', 'sub-OAS30936',\n",
       "       'sub-OAS31013', 'sub-OAS30797', 'sub-OAS30551', 'sub-OAS30909',\n",
       "       'sub-OAS30135', 'sub-OAS30307', 'sub-OAS30569', 'sub-OAS30300',\n",
       "       'sub-OAS31014', 'sub-OAS30502', 'sub-OAS31040', 'sub-OAS30991',\n",
       "       'sub-OAS30195', 'sub-OAS31047', 'sub-OAS30737', 'sub-OAS30353',\n",
       "       'sub-OAS31078', 'sub-OAS30996', 'sub-OAS30398', 'sub-OAS30962',\n",
       "       'sub-OAS30708', 'sub-OAS31071', 'sub-OAS30701', 'sub-OAS30168',\n",
       "       'sub-OAS30706', 'sub-OAS30534', 'sub-OAS30362', 'sub-OAS31076',\n",
       "       'sub-OAS30998', 'sub-OAS30739', 'sub-OAS30568', 'sub-OAS31015',\n",
       "       'sub-OAS30765', 'sub-OAS30339', 'sub-OAS30550', 'sub-OAS30306',\n",
       "       'sub-OAS30134', 'sub-OAS30908', 'sub-OAS30559', 'sub-OAS30566',\n",
       "       'sub-OAS30754', 'sub-OAS30592', 'sub-OAS30308', 'sub-OAS30906',\n",
       "       'sub-OAS31023', 'sub-OAS30595', 'sub-OAS30939', 'sub-OAS30337',\n",
       "       'sub-OAS31077', 'sub-OAS30535', 'sub-OAS30363', 'sub-OAS31083',\n",
       "       'sub-OAS31048', 'sub-OAS30390', 'sub-OAS30169', 'sub-OAS30160',\n",
       "       'sub-OAS30352', 'sub-OAS30963', 'sub-OAS30709', 'sub-OAS30997',\n",
       "       'sub-OAS30193', 'sub-OAS31041', 'sub-OAS30167', 'sub-OAS30503',\n",
       "       'sub-OAS30731', 'sub-OAS30979', 'sub-OAS31090', 'sub-OAS30142',\n",
       "       'sub-OAS30384', 'sub-OAS30977', 'sub-OAS30722', 'sub-OAS30346',\n",
       "       'sub-OAS30174', 'sub-OAS30180', 'sub-OAS30528', 'sub-OAS30187',\n",
       "       'sub-OAS30725', 'sub-OAS30517', 'sub-OAS31001', 'sub-OAS30127',\n",
       "       'sub-OAS30543', 'sub-OAS30588', 'sub-OAS30924', 'sub-OAS31006',\n",
       "       'sub-OAS30749', 'sub-OAS30324', 'sub-OAS30572', 'sub-OAS30129',\n",
       "       'sub-OAS30581', 'sub-OAS30747', 'sub-OAS30778', 'sub-OAS30529',\n",
       "       'sub-OAS30985', 'sub-OAS30516', 'sub-OAS30982', 'sub-OAS30378',\n",
       "       'sub-OAS30723', 'sub-OAS30175', 'sub-OAS30949', 'sub-OAS31065',\n",
       "       'sub-OAS30143', 'sub-OAS30371', 'sub-OAS30715', 'sub-OAS30349',\n",
       "       'sub-OAS30978', 'sub-OAS30382', 'sub-OAS30574', 'sub-OAS31036',\n",
       "       'sub-OAS30580', 'sub-OAS31009', 'sub-OAS30117', 'sub-OAS30783',\n",
       "       'sub-OAS30777', 'sub-OAS30126', 'sub-OAS30770', 'sub-OAS30542',\n",
       "       'sub-OAS31000', 'sub-OAS30589', 'sub-OAS30857', 'sub-OAS31172',\n",
       "       'sub-OAS30602', 'sub-OAS30266', 'sub-OAS30268', 'sub-OAS30633',\n",
       "       'sub-OAS30065', 'sub-OAS31143', 'sub-OAS30861', 'sub-OAS30096',\n",
       "       'sub-OAS30062', 'sub-OAS30250', 'sub-OAS30634', 'sub-OAS30406',\n",
       "       'sub-OAS30694', 'sub-OAS31110', 'sub-OAS30204', 'sub-OAS30036',\n",
       "       'sub-OAS30660', 'sub-OAS30499', 'sub-OAS30835', 'sub-OAS30009',\n",
       "       'sub-OAS30455', 'sub-OAS30693', 'sub-OAS30832', 'sub-OAS30658',\n",
       "       'sub-OAS30007', 'sub-OAS30651', 'sub-OAS30038', 'sub-OAS30490',\n",
       "       'sub-OAS30464', 'sub-OAS30656', 'sub-OAS30232', 'sub-OAS31119',\n",
       "       'sub-OAS30803', 'sub-OAS30438', 'sub-OAS30251', 'sub-OAS30407',\n",
       "       'sub-OAS30635', 'sub-OAS31145', 'sub-OAS30097', 'sub-OAS30269',\n",
       "       'sub-OAS31142', 'sub-OAS30090', 'sub-OAS30632', 'sub-OAS30400',\n",
       "       'sub-OAS30858', 'sub-OAS30256', 'sub-OAS30099', 'sub-OAS30294',\n",
       "       'sub-OAS30258', 'sub-OAS30431', 'sub-OAS30603', 'sub-OAS30293',\n",
       "       'sub-OAS30657', 'sub-OAS30465', 'sub-OAS30001', 'sub-OAS30668',\n",
       "       'sub-OAS31118', 'sub-OAS30496', 'sub-OAS31120', 'sub-OAS30006',\n",
       "       'sub-OAS30462', 'sub-OAS31116', 'sub-OAS30454', 'sub-OAS30666',\n",
       "       'sub-OAS30030', 'sub-OAS30037', 'sub-OAS30008', 'sub-OAS31155',\n",
       "       'sub-OAS30625', 'sub-OAS30417', 'sub-OAS30073', 'sub-OAS30246',\n",
       "       'sub-OAS30074', 'sub-OAS30080', 'sub-OAS30877', 'sub-OAS31164',\n",
       "       'sub-OAS30841', 'sub-OAS30419', 'sub-OAS30283', 'sub-OAS30879',\n",
       "       'sub-OAS30277', 'sub-OAS30248', 'sub-OAS30846', 'sub-OAS31108',\n",
       "       'sub-OAS31137', 'sub-OAS30647', 'sub-OAS30486', 'sub-OAS30823',\n",
       "       'sub-OAS30676', 'sub-OAS30444', 'sub-OAS31106', 'sub-OAS30018',\n",
       "       'sub-OAS30824', 'sub-OAS31101', 'sub-OAS30685', 'sub-OAS30671',\n",
       "       'sub-OAS30276', 'sub-OAS30044', 'sub-OAS30612', 'sub-OAS30249',\n",
       "       'sub-OAS31165', 'sub-OAS30088', 'sub-OAS30840', 'sub-OAS31153',\n",
       "       'sub-OAS30075', 'sub-OAS30623', 'sub-OAS30411', 'sub-OAS30278',\n",
       "       'sub-OAS30624', 'sub-OAS30086', 'sub-OAS30871', 'sub-OAS30429',\n",
       "       'sub-OAS30489', 'sub-OAS30670', 'sub-OAS30026', 'sub-OAS31138',\n",
       "       'sub-OAS30822', 'sub-OAS30683', 'sub-OAS31107', 'sub-OAS30021',\n",
       "       'sub-OAS30677', 'sub-OAS30028', 'sub-OAS31131', 'sub-OAS30487',\n",
       "       'sub-OAS30225', 'sub-OAS30017', 'sub-OAS30813', 'sub-OAS30010',\n",
       "       'sub-OAS30222', 'sub-OAS31136', 'sub-OAS30995', 'sub-OAS30357',\n",
       "       'sub-OAS30191', 'sub-OAS30966', 'sub-OAS30368', 'sub-OAS30992',\n",
       "       'sub-OAS30537', 'sub-OAS30361', 'sub-OAS31081', 'sub-OAS30395',\n",
       "       'sub-OAS30950', 'sub-OAS31072', 'sub-OAS30392', 'sub-OAS30154',\n",
       "       'sub-OAS30968', 'sub-OAS30359', 'sub-OAS31019', 'sub-OAS30769',\n",
       "       'sub-OAS30903', 'sub-OAS30590', 'sub-OAS30756', 'sub-OAS30904',\n",
       "       'sub-OAS30107', 'sub-OAS30335', 'sub-OAS31021', 'sub-OAS31028',\n",
       "       'sub-OAS30303', 'sub-OAS30767', 'sub-OAS30555', 'sub-OAS30793',\n",
       "       'sub-OAS31017', 'sub-OAS30109', 'sub-OAS30794', 'sub-OAS30552',\n",
       "       'sub-OAS30367', 'sub-OAS30969', 'sub-OAS30155', 'sub-OAS31087',\n",
       "       'sub-OAS30531', 'sub-OAS30703', 'sub-OAS30393', 'sub-OAS31073',\n",
       "       'sub-OAS30956', 'sub-OAS30152', 'sub-OAS31080', 'sub-OAS30509',\n",
       "       'sub-OAS31042', 'sub-OAS30164', 'sub-OAS30356', 'sub-OAS30500',\n",
       "       'sub-OAS30993', 'sub-OAS30967', 'sub-OAS30507', 'sub-OAS30735',\n",
       "       'sub-OAS30351', 'sub-OAS30163', 'sub-OAS30197', 'sub-OAS30960',\n",
       "       'sub-OAS30538', 'sub-OAS30108', 'sub-OAS30598', 'sub-OAS30137',\n",
       "       'sub-OAS30759', 'sub-OAS30933', 'sub-OAS30792', 'sub-OAS30302',\n",
       "       'sub-OAS30905', 'sub-OAS31020', 'sub-OAS30562', 'sub-OAS30750',\n",
       "       'sub-OAS30106', 'sub-OAS30768', 'sub-OAS31018', 'sub-OAS30101',\n",
       "       'sub-OAS30333', 'sub-OAS30757', 'sub-OAS30547', 'sub-OAS30775',\n",
       "       'sub-OAS31005', 'sub-OAS30781', 'sub-OAS30786', 'sub-OAS30772',\n",
       "       'sub-OAS30927', 'sub-OAS31034', 'sub-OAS30112', 'sub-OAS30320',\n",
       "       'sub-OAS30327', 'sub-OAS30115', 'sub-OAS30571', 'sub-OAS30743',\n",
       "       'sub-OAS30916', 'sub-OAS30318', 'sub-OAS30788', 'sub-OAS30728',\n",
       "       'sub-OAS30942', 'sub-OAS31058', 'sub-OAS30141', 'sub-OAS30525',\n",
       "       'sub-OAS30989', 'sub-OAS30387', 'sub-OAS30710', 'sub-OAS30374',\n",
       "       'sub-OAS30146', 'sub-OAS31094', 'sub-OAS31069', 'sub-OAS30973',\n",
       "       'sub-OAS31056', 'sub-OAS30184', 'sub-OAS30514', 'sub-OAS30726',\n",
       "       'sub-OAS30974', 'sub-OAS30980', 'sub-OAS30513', 'sub-OAS30183',\n",
       "       'sub-OAS30584', 'sub-OAS31032', 'sub-OAS30570', 'sub-OAS30319',\n",
       "       'sub-OAS30917', 'sub-OAS30577', 'sub-OAS30321', 'sub-OAS31035',\n",
       "       'sub-OAS30910', 'sub-OAS30317', 'sub-OAS30919', 'sub-OAS30125',\n",
       "       'sub-OAS30328', 'sub-OAS30780', 'sub-OAS30546', 'sub-OAS30122',\n",
       "       'sub-OAS30310', 'sub-OAS30921', 'sub-OAS30579', 'sub-OAS30981',\n",
       "       'sub-OAS30149', 'sub-OAS30182', 'sub-OAS30512', 'sub-OAS30176',\n",
       "       'sub-OAS31068', 'sub-OAS30986', 'sub-OAS30343', 'sub-OAS30727',\n",
       "       'sub-OAS31057', 'sub-OAS30178', 'sub-OAS30944', 'sub-OAS30711',\n",
       "       'sub-OAS30523', 'sub-OAS30375', 'sub-OAS31059', 'sub-OAS30729',\n",
       "       'sub-OAS31066', 'sub-OAS30372', 'sub-OAS30140', 'sub-OAS30524',\n",
       "       'sub-OAS30716', 'sub-OAS30456', 'sub-OAS30664', 'sub-OAS30200',\n",
       "       'sub-OAS30032', 'sub-OAS31114', 'sub-OAS31113', 'sub-OAS30207',\n",
       "       'sub-OAS31125', 'sub-OAS30493', 'sub-OAS30003', 'sub-OAS30231',\n",
       "       'sub-OAS30800', 'sub-OAS30458', 'sub-OAS30236', 'sub-OAS30004',\n",
       "       'sub-OAS30652', 'sub-OAS30494', 'sub-OAS30807', 'sub-OAS30699',\n",
       "       'sub-OAS30050', 'sub-OAS30606', 'sub-OAS30296', 'sub-OAS30854',\n",
       "       'sub-OAS30291', 'sub-OAS30601', 'sub-OAS30608', 'sub-OAS31147',\n",
       "       'sub-OAS30061', 'sub-OAS30405', 'sub-OAS30402', 'sub-OAS30066',\n",
       "       'sub-OAS30005', 'sub-OAS30839', 'sub-OAS30461', 'sub-OAS30806',\n",
       "       'sub-OAS30230', 'sub-OAS30002', 'sub-OAS30492', 'sub-OAS30801',\n",
       "       'sub-OAS30034', 'sub-OAS30808', 'sub-OAS31115', 'sub-OAS30033',\n",
       "       'sub-OAS30890', 'sub-OAS30093', 'sub-OAS30631', 'sub-OAS30067',\n",
       "       'sub-OAS30299', 'sub-OAS30060', 'sub-OAS30636', 'sub-OAS31146',\n",
       "       'sub-OAS30600', 'sub-OAS30432', 'sub-OAS30264', 'sub-OAS30290',\n",
       "       'sub-OAS31148', 'sub-OAS30638', 'sub-OAS30852', 'sub-OAS30297'],\n",
       "      dtype='<U12')"
      ]
     },
     "execution_count": 125,
     "metadata": {},
     "output_type": "execute_result"
    }
   ],
   "source": [
    "L = np.delete(L, 87, axis=None)\n",
    "L"
   ]
  },
  {
   "cell_type": "code",
   "execution_count": 126,
   "id": "exact-utility",
   "metadata": {},
   "outputs": [
    {
     "data": {
      "text/plain": [
       "544"
      ]
     },
     "execution_count": 126,
     "metadata": {},
     "output_type": "execute_result"
    }
   ],
   "source": [
    "len(L)"
   ]
  },
  {
   "cell_type": "code",
   "execution_count": 128,
   "id": "temporal-occurrence",
   "metadata": {},
   "outputs": [],
   "source": [
    "path = []\n",
    "for i in range(544):\n",
    "    path.append('/Users/taraapple/Downloads/ALZHEIMER/normal/' +  L[i])"
   ]
  },
  {
   "cell_type": "code",
   "execution_count": 134,
   "id": "individual-difference",
   "metadata": {},
   "outputs": [],
   "source": [
    "for i in range(len(path)):\n",
    "    from matplotlib import image\n",
    "    filepath = path[i] + '/150' + path[i][44:56] + '.png'\n",
    "    image  = image.imread(filepath)\n",
    "    if len(image.shape) > 2 and image.shape[2] == 4:\n",
    "        img = cv2.cvtColor(image, cv2.COLOR_BGRA2BGR)\n",
    "    file_path =  '/Users/taraapple/Downloads/A/normal/150' + path[i][44:56]\n",
    "    plt.imsave(file_path, img, format='jpg', cmap = 'gray')"
   ]
  }
 ],
 "metadata": {
  "kernelspec": {
   "display_name": "Python 3",
   "language": "python",
   "name": "python3"
  },
  "language_info": {
   "codemirror_mode": {
    "name": "ipython",
    "version": 3
   },
   "file_extension": ".py",
   "mimetype": "text/x-python",
   "name": "python",
   "nbconvert_exporter": "python",
   "pygments_lexer": "ipython3",
   "version": "3.7.6"
  }
 },
 "nbformat": 4,
 "nbformat_minor": 5
}
