{
 "cells": [
  {
   "cell_type": "code",
   "execution_count": 2,
   "id": "noticed-patrick",
   "metadata": {},
   "outputs": [],
   "source": [
    "from PIL import Image\n",
    "from matplotlib import image\n",
    "from matplotlib import pyplot\n",
    "import os\n",
    "import numpy as np\n",
    "import matplotlib.pyplot as plt\n",
    "import matplotlib as mlp"
   ]
  },
  {
   "cell_type": "code",
   "execution_count": 3,
   "id": "incomplete-wayne",
   "metadata": {},
   "outputs": [],
   "source": [
    "L1 = []\n",
    "for i in range(len(os.listdir('/Users/taraapple/Downloads/new/demented/'))):\n",
    "    L1.append(os.listdir('/Users/taraapple/Downloads/new/demented/')[i])"
   ]
  },
  {
   "cell_type": "code",
   "execution_count": 4,
   "id": "spiritual-stability",
   "metadata": {},
   "outputs": [
    {
     "data": {
      "text/plain": [
       "(array([1140]),)"
      ]
     },
     "execution_count": 4,
     "metadata": {},
     "output_type": "execute_result"
    }
   ],
   "source": [
    "L1 = np.array(L1)\n",
    "np.where(L1=='.DS_Store')"
   ]
  },
  {
   "cell_type": "code",
   "execution_count": 6,
   "id": "sunrise-chart",
   "metadata": {},
   "outputs": [],
   "source": [
    "L1 = np.delete(L1, 1140, axis=None)"
   ]
  },
  {
   "cell_type": "code",
   "execution_count": 107,
   "id": "honey-mainland",
   "metadata": {},
   "outputs": [],
   "source": [
    "path1 = []\n",
    "for i in range(len(L1)):\n",
    "    path1.append('/Users/taraapple/Downloads/new/demented/' +  L1[i])"
   ]
  },
  {
   "cell_type": "code",
   "execution_count": 183,
   "id": "interstate-intellectual",
   "metadata": {},
   "outputs": [],
   "source": [
    "L2 = []\n",
    "for i in range(len(os.listdir('/Users/taraapple/Downloads/new/normal/'))):\n",
    "    L2.append(os.listdir('/Users/taraapple/Downloads/new/normal/')[i])"
   ]
  },
  {
   "cell_type": "code",
   "execution_count": 184,
   "id": "outside-sheep",
   "metadata": {},
   "outputs": [
    {
     "data": {
      "text/plain": [
       "23155"
      ]
     },
     "execution_count": 184,
     "metadata": {},
     "output_type": "execute_result"
    }
   ],
   "source": [
    "len(L2)"
   ]
  },
  {
   "cell_type": "code",
   "execution_count": 185,
   "id": "prescribed-closure",
   "metadata": {},
   "outputs": [],
   "source": [
    "L2 = np.array(L2)"
   ]
  },
  {
   "cell_type": "code",
   "execution_count": 187,
   "id": "religious-jurisdiction",
   "metadata": {},
   "outputs": [
    {
     "data": {
      "text/plain": [
       "(array([3480]),)"
      ]
     },
     "execution_count": 187,
     "metadata": {},
     "output_type": "execute_result"
    }
   ],
   "source": [
    "np.where(L2=='.DS_Store')"
   ]
  },
  {
   "cell_type": "code",
   "execution_count": 188,
   "id": "ranking-sponsorship",
   "metadata": {},
   "outputs": [],
   "source": [
    "L2 = np.delete(L2, 3480, axis=None)"
   ]
  },
  {
   "cell_type": "code",
   "execution_count": 189,
   "id": "outdoor-pontiac",
   "metadata": {},
   "outputs": [],
   "source": [
    "path2 = []\n",
    "for i in range(len(L2)):\n",
    "    path2.append('/Users/taraapple/Downloads/new/normal/' +  L2[i])"
   ]
  },
  {
   "cell_type": "code",
   "execution_count": 190,
   "id": "growing-banks",
   "metadata": {},
   "outputs": [],
   "source": [
    "def row(x, inx):\n",
    "    z = np.zeros((1, x.shape[1], 3))\n",
    "\n",
    "    if inx%2==0:\n",
    "        for i in range(np.int(inx/2)):\n",
    "            x = np.concatenate((z, x), axis=0)\n",
    "        for j in range(np.int(inx/2)):\n",
    "            x = np.concatenate((x, z), axis=0)\n",
    "    if inx%2==1:\n",
    "        for i in range(np.int(inx/2)):\n",
    "            x = np.concatenate((z, x), axis=0)\n",
    "        for j in range(np.int(inx/2) + 1):\n",
    "            x = np.concatenate((x, z), axis=0)\n",
    "    return x\n",
    "        "
   ]
  },
  {
   "cell_type": "code",
   "execution_count": 191,
   "id": "destroyed-politics",
   "metadata": {},
   "outputs": [],
   "source": [
    "def col(x, inx):\n",
    "    z = np.zeros((x.shape[0], 1, 3))\n",
    "\n",
    "    if inx%2==0:\n",
    "        for i in range(np.int(inx/2)):\n",
    "            x = np.concatenate((z, x), axis=1)\n",
    "        for j in range(np.int(inx/2)):\n",
    "            x = np.concatenate((x, z), axis=1)\n",
    "    if inx%2==1:\n",
    "        for i in range(np.int(inx/2)):\n",
    "            x = np.concatenate((z, x), axis=1)\n",
    "        for j in range(np.int(inx/2) + 1):\n",
    "            x = np.concatenate((x, z), axis=1)\n",
    "    return x"
   ]
  },
  {
   "cell_type": "code",
   "execution_count": 182,
   "id": "judicial-stewart",
   "metadata": {},
   "outputs": [],
   "source": [
    "from matplotlib import image\n",
    "for k in range(len(path1)):\n",
    "    filepath = path1[k]\n",
    "    x  = image.imread(filepath)\n",
    "    d1 = 228 - x.shape[0]\n",
    "    x1 = row(x, d1)\n",
    "    d2 = 228 - x.shape[1]\n",
    "    x2 = col(x1, d2)\n",
    "    X = x2/255\n",
    "    file_path =  '/Users/taraapple/Downloads/Demented1/' + L1[k]\n",
    "    plt.imsave(file_path, X, format='jpg', cmap = 'gray')"
   ]
  },
  {
   "cell_type": "code",
   "execution_count": 192,
   "id": "placed-creek",
   "metadata": {},
   "outputs": [],
   "source": [
    "from matplotlib import image\n",
    "for k in range(len(path2)):\n",
    "    filepath = path2[k]\n",
    "    x  = image.imread(filepath)\n",
    "    d1 = 228 - x.shape[0]\n",
    "    x1 = row(x, d1)\n",
    "    d2 = 228 - x.shape[1]\n",
    "    x2 = col(x1, d2)\n",
    "    X = x2/255\n",
    "    file_path =  '/Users/taraapple/Downloads/Normal1/' + L2[k]\n",
    "    plt.imsave(file_path, X, format='jpg', cmap = 'gray')"
   ]
  },
  {
   "cell_type": "code",
   "execution_count": null,
   "id": "collected-accused",
   "metadata": {},
   "outputs": [],
   "source": []
  }
 ],
 "metadata": {
  "kernelspec": {
   "display_name": "Python 3",
   "language": "python",
   "name": "python3"
  },
  "language_info": {
   "codemirror_mode": {
    "name": "ipython",
    "version": 3
   },
   "file_extension": ".py",
   "mimetype": "text/x-python",
   "name": "python",
   "nbconvert_exporter": "python",
   "pygments_lexer": "ipython3",
   "version": "3.7.6"
  }
 },
 "nbformat": 4,
 "nbformat_minor": 5
}
