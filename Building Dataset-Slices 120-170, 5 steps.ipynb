{
 "cells": [
  {
   "cell_type": "code",
   "execution_count": 82,
   "id": "broadband-problem",
   "metadata": {},
   "outputs": [],
   "source": [
    "import os\n",
    "import numpy as np\n",
    "import pandas as pd\n",
    "from PIL import Image\n",
    "from matplotlib import image\n",
    "import matplotlib.pyplot as plt"
   ]
  },
  {
   "cell_type": "code",
   "execution_count": 8,
   "id": "abstract-harmony",
   "metadata": {},
   "outputs": [],
   "source": [
    "normal_train = pd.read_csv('/Users/taraapple/Downloads/center/normal_train.csv')"
   ]
  },
  {
   "cell_type": "code",
   "execution_count": 9,
   "id": "collect-story",
   "metadata": {},
   "outputs": [],
   "source": [
    "demented_train = pd.read_csv('/Users/taraapple/Downloads/center/demented_train.csv')"
   ]
  },
  {
   "cell_type": "code",
   "execution_count": 21,
   "id": "medieval-clothing",
   "metadata": {},
   "outputs": [],
   "source": [
    "normal_test = pd.read_csv('/Users/taraapple/Downloads/center/normal_test.csv')"
   ]
  },
  {
   "cell_type": "code",
   "execution_count": 22,
   "id": "equivalent-rally",
   "metadata": {},
   "outputs": [],
   "source": [
    "demented_test = pd.read_csv('/Users/taraapple/Downloads/center/demented_test.csv')"
   ]
  },
  {
   "cell_type": "code",
   "execution_count": 23,
   "id": "weird-superior",
   "metadata": {},
   "outputs": [
    {
     "name": "stdout",
     "output_type": "stream",
     "text": [
      "demented(test/train): 30 120 normal(test/train): 91 363\n"
     ]
    }
   ],
   "source": [
    "print(\"demented(test/train):\", len(demented_test), len(demented_train), \"normal(test/train):\", len(normal_test), len(normal_train))"
   ]
  },
  {
   "cell_type": "code",
   "execution_count": 12,
   "id": "moved-mumbai",
   "metadata": {},
   "outputs": [],
   "source": [
    "test = pd.read_csv('/Users/taraapple/Downloads/center/test.csv')"
   ]
  },
  {
   "cell_type": "code",
   "execution_count": 14,
   "id": "lined-harassment",
   "metadata": {},
   "outputs": [],
   "source": [
    "train = pd.read_csv('/Users/taraapple/Downloads/center/train.csv')"
   ]
  },
  {
   "cell_type": "code",
   "execution_count": 60,
   "id": "marked-probe",
   "metadata": {},
   "outputs": [],
   "source": [
    "for i in range(30):\n",
    "    os.makedirs(\"/Users/taraapple/Downloads/center/120-170-5/test/demented/\" + demented_test.iloc[i,0])"
   ]
  },
  {
   "cell_type": "code",
   "execution_count": 61,
   "id": "alert-mississippi",
   "metadata": {},
   "outputs": [],
   "source": [
    "for i in range(120):\n",
    "    os.makedirs(\"/Users/taraapple/Downloads/center/120-170-5/train/demented/\" + demented_train.iloc[i,0])"
   ]
  },
  {
   "cell_type": "code",
   "execution_count": 62,
   "id": "objective-fountain",
   "metadata": {},
   "outputs": [],
   "source": [
    "for i in range(91):\n",
    "    os.makedirs(\"/Users/taraapple/Downloads/center/120-170-5/test/normal/\" + normal_test.iloc[i,0])"
   ]
  },
  {
   "cell_type": "code",
   "execution_count": 63,
   "id": "inside-oregon",
   "metadata": {},
   "outputs": [],
   "source": [
    "for i in range(363):\n",
    "    os.makedirs(\"/Users/taraapple/Downloads/center/120-170-5/train/normal/\" + normal_train.iloc[i,0])"
   ]
  },
  {
   "cell_type": "code",
   "execution_count": 64,
   "id": "artistic-review",
   "metadata": {},
   "outputs": [],
   "source": [
    "P = \"/Users/taraapple/Downloads/ALZ/Demented/\""
   ]
  },
  {
   "cell_type": "code",
   "execution_count": 65,
   "id": "cheap-bleeding",
   "metadata": {},
   "outputs": [],
   "source": [
    "L1 = []\n",
    "for i in range(len(os.listdir(P))):\n",
    "    L1.append(os.listdir(P)[i])"
   ]
  },
  {
   "cell_type": "code",
   "execution_count": 66,
   "id": "federal-maryland",
   "metadata": {},
   "outputs": [
    {
     "data": {
      "text/plain": [
       "7650"
      ]
     },
     "execution_count": 66,
     "metadata": {},
     "output_type": "execute_result"
    }
   ],
   "source": [
    "len(L1)"
   ]
  },
  {
   "cell_type": "code",
   "execution_count": 67,
   "id": "hazardous-evening",
   "metadata": {},
   "outputs": [],
   "source": [
    "Path = []\n",
    "for i in range(len(os.listdir(P))):\n",
    "    L1.append(P + L1[i])\n",
    "    \n",
    "path1 = []\n",
    "for i in range(7650):\n",
    "    path1.append(P +  L1[i])"
   ]
  },
  {
   "cell_type": "code",
   "execution_count": 68,
   "id": "controlled-drinking",
   "metadata": {},
   "outputs": [],
   "source": [
    "M = os.listdir(\"/Users/taraapple/Downloads/center/120-170-5/test/demented/\")"
   ]
  },
  {
   "cell_type": "code",
   "execution_count": 69,
   "id": "eastern-technique",
   "metadata": {},
   "outputs": [
    {
     "data": {
      "text/plain": [
       "30"
      ]
     },
     "execution_count": 69,
     "metadata": {},
     "output_type": "execute_result"
    }
   ],
   "source": [
    "len(M)"
   ]
  },
  {
   "cell_type": "code",
   "execution_count": 76,
   "id": "animated-warrior",
   "metadata": {},
   "outputs": [],
   "source": [
    "for i in range(30):\n",
    "    for j in range(7650):\n",
    "        if np.int(L1[j][:3])%5==0:\n",
    "            if M[i] == L1[j][3:15]:\n",
    "                filepath = path1[j]\n",
    "                img = image.imread(filepath)\n",
    "                file_path =  \"/Users/taraapple/Downloads/center/120-170-5/test/demented/\" + M[i] + \"/\" + L1[j]\n",
    "                plt.imsave(file_path, img, format='jpg', cmap = 'gray')    "
   ]
  },
  {
   "cell_type": "code",
   "execution_count": 77,
   "id": "solved-south",
   "metadata": {},
   "outputs": [],
   "source": [
    "M = os.listdir(\"/Users/taraapple/Downloads/center/120-170-5/train/demented/\")"
   ]
  },
  {
   "cell_type": "code",
   "execution_count": 81,
   "id": "original-disclaimer",
   "metadata": {},
   "outputs": [
    {
     "data": {
      "text/plain": [
       "'.DS_Store'"
      ]
     },
     "execution_count": 81,
     "metadata": {},
     "output_type": "execute_result"
    }
   ],
   "source": [
    "M[16]"
   ]
  },
  {
   "cell_type": "code",
   "execution_count": 84,
   "id": "expected-palmer",
   "metadata": {},
   "outputs": [],
   "source": [
    "M = np.delete(M, 16, axis=None)"
   ]
  },
  {
   "cell_type": "code",
   "execution_count": 85,
   "id": "eligible-balloon",
   "metadata": {},
   "outputs": [],
   "source": [
    "for i in range(120):\n",
    "    for j in range(7650):\n",
    "        if np.int(L1[j][:3])%5==0:\n",
    "            if M[i] == L1[j][3:15]:\n",
    "                filepath = path1[j]\n",
    "                img = image.imread(filepath)\n",
    "                file_path =  \"/Users/taraapple/Downloads/center/120-170-5/train/demented/\" + M[i] + \"/\" + L1[j]\n",
    "                plt.imsave(file_path, img, format='jpg', cmap = 'gray')    "
   ]
  },
  {
   "cell_type": "code",
   "execution_count": 86,
   "id": "favorite-discount",
   "metadata": {},
   "outputs": [],
   "source": [
    "P = \"/Users/taraapple/Downloads/ALZ/Normal/\"\n",
    "L1 = []\n",
    "for i in range(len(os.listdir(P))):\n",
    "    L1.append(os.listdir(P)[i])"
   ]
  },
  {
   "cell_type": "code",
   "execution_count": 87,
   "id": "hawaiian-paint",
   "metadata": {},
   "outputs": [
    {
     "data": {
      "text/plain": [
       "23154"
      ]
     },
     "execution_count": 87,
     "metadata": {},
     "output_type": "execute_result"
    }
   ],
   "source": [
    "len(L1)"
   ]
  },
  {
   "cell_type": "code",
   "execution_count": 89,
   "id": "increased-guitar",
   "metadata": {},
   "outputs": [],
   "source": [
    "Path = []\n",
    "for i in range(len(os.listdir(P))):\n",
    "    L1.append(P + L1[i])\n",
    "    \n",
    "path1 = []\n",
    "for i in range(23154):\n",
    "    path1.append(P +  L1[i])\n"
   ]
  },
  {
   "cell_type": "code",
   "execution_count": 90,
   "id": "adjacent-gauge",
   "metadata": {},
   "outputs": [],
   "source": [
    "M = os.listdir(\"/Users/taraapple/Downloads/center/120-170-5/train/normal/\")"
   ]
  },
  {
   "cell_type": "code",
   "execution_count": 91,
   "id": "musical-pharmaceutical",
   "metadata": {},
   "outputs": [
    {
     "data": {
      "text/plain": [
       "364"
      ]
     },
     "execution_count": 91,
     "metadata": {},
     "output_type": "execute_result"
    }
   ],
   "source": [
    "len(M)"
   ]
  },
  {
   "cell_type": "code",
   "execution_count": 94,
   "id": "valuable-jones",
   "metadata": {},
   "outputs": [
    {
     "data": {
      "text/plain": [
       "'.DS_Store'"
      ]
     },
     "execution_count": 94,
     "metadata": {},
     "output_type": "execute_result"
    }
   ],
   "source": [
    "M[63]"
   ]
  },
  {
   "cell_type": "code",
   "execution_count": 95,
   "id": "prescription-guyana",
   "metadata": {},
   "outputs": [],
   "source": [
    "M = np.delete(M, 63, axis=None)"
   ]
  },
  {
   "cell_type": "code",
   "execution_count": 96,
   "id": "integrated-worship",
   "metadata": {},
   "outputs": [],
   "source": [
    "for i in range(363):\n",
    "    for j in range(23154):\n",
    "        if np.int(L1[j][:3])%5==0:\n",
    "            if M[i] == L1[j][3:15]:\n",
    "                filepath = path1[j]\n",
    "                img = image.imread(filepath)\n",
    "                file_path =  \"/Users/taraapple/Downloads/center/120-170-5/train/normal/\" + M[i] + \"/\" + L1[j]\n",
    "                plt.imsave(file_path, img, format='jpg', cmap = 'gray')    "
   ]
  },
  {
   "cell_type": "code",
   "execution_count": 97,
   "id": "invisible-pierre",
   "metadata": {},
   "outputs": [],
   "source": [
    "M = os.listdir(\"/Users/taraapple/Downloads/center/120-170-5/test/normal/\")"
   ]
  },
  {
   "cell_type": "code",
   "execution_count": 98,
   "id": "lesbian-newton",
   "metadata": {},
   "outputs": [
    {
     "data": {
      "text/plain": [
       "92"
      ]
     },
     "execution_count": 98,
     "metadata": {},
     "output_type": "execute_result"
    }
   ],
   "source": [
    "len(M)"
   ]
  },
  {
   "cell_type": "code",
   "execution_count": 100,
   "id": "monetary-breath",
   "metadata": {},
   "outputs": [
    {
     "data": {
      "text/plain": [
       "'.DS_Store'"
      ]
     },
     "execution_count": 100,
     "metadata": {},
     "output_type": "execute_result"
    }
   ],
   "source": [
    "M[7]"
   ]
  },
  {
   "cell_type": "code",
   "execution_count": 101,
   "id": "italian-south",
   "metadata": {},
   "outputs": [],
   "source": [
    "M = np.delete(M, 7, axis=None)"
   ]
  },
  {
   "cell_type": "code",
   "execution_count": 102,
   "id": "removed-struggle",
   "metadata": {},
   "outputs": [],
   "source": [
    "for i in range(91):\n",
    "    for j in range(23154):\n",
    "        if np.int(L1[j][:3])%5==0:\n",
    "            if M[i] == L1[j][3:15]:\n",
    "                filepath = path1[j]\n",
    "                img = image.imread(filepath)\n",
    "                file_path =  \"/Users/taraapple/Downloads/center/120-170-5/test/normal/\" + M[i] + \"/\" + L1[j]\n",
    "                plt.imsave(file_path, img, format='jpg', cmap = 'gray')    "
   ]
  }
 ],
 "metadata": {
  "kernelspec": {
   "display_name": "Python 3",
   "language": "python",
   "name": "python3"
  },
  "language_info": {
   "codemirror_mode": {
    "name": "ipython",
    "version": 3
   },
   "file_extension": ".py",
   "mimetype": "text/x-python",
   "name": "python",
   "nbconvert_exporter": "python",
   "pygments_lexer": "ipython3",
   "version": "3.7.6"
  }
 },
 "nbformat": 4,
 "nbformat_minor": 5
}
